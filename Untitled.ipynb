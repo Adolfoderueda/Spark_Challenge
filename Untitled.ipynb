{
 "cells": [
  {
   "cell_type": "code",
   "execution_count": 1,
   "metadata": {
    "scrolled": true
   },
   "outputs": [
    {
     "name": "stdout",
     "output_type": "stream",
     "text": [
      "/usr/local/software/spark\n"
     ]
    }
   ],
   "source": [
    "import os\n",
    "print(os.environ['SPARK_HOME'])"
   ]
  },
  {
   "cell_type": "code",
   "execution_count": null,
   "metadata": {
    "collapsed": true
   },
   "outputs": [],
   "source": []
  },
  {
   "cell_type": "code",
   "execution_count": null,
   "metadata": {
    "collapsed": true
   },
   "outputs": [],
   "source": []
  },
  {
   "cell_type": "code",
   "execution_count": 3,
   "metadata": {},
   "outputs": [],
   "source": [
    "#import findspark\n",
    "#findspark.init()\n",
    "import pyspark"
   ]
  },
  {
   "cell_type": "code",
   "execution_count": 4,
   "metadata": {
    "collapsed": true
   },
   "outputs": [],
   "source": [
    "from pyspark.sql import SparkSession\n",
    "\n",
    "spark = SparkSession \\\n",
    "    .builder \\\n",
    "    .master(\"local\") \\\n",
    "    .appName(\"Adolfo-Dataset\") \\\n",
    "    .getOrCreate()"
   ]
  },
  {
   "cell_type": "code",
   "execution_count": 5,
   "metadata": {},
   "outputs": [
    {
     "data": {
      "text/plain": [
       "'2.2.0'"
      ]
     },
     "execution_count": 5,
     "metadata": {},
     "output_type": "execute_result"
    }
   ],
   "source": [
    "spark.version"
   ]
  },
  {
   "cell_type": "markdown",
   "metadata": {},
   "source": [
    "### 2. Data Loading\n",
    "\n",
    "Data inspection shows that the data does not have a header."
   ]
  },
  {
   "cell_type": "code",
   "execution_count": null,
   "metadata": {
    "collapsed": true
   },
   "outputs": [],
   "source": [
    "def readLine(line):\n",
    "    \"\"\" Parse a line from the input data\n",
    "    Args:\n",
    "        line (str): a line (row) of the input data file\n",
    "    Returns:\n",
    "        Row : row object containin the parsed elements from the line\n",
    "        Note we are adding schema by directly transforming the str into double types\n",
    "    \"\"\"\n",
    "    \n",
    "    parts=re.split(\",\", line)\n",
    "   \n",
    "    # Read in each feature PLUS THE TARGET\n",
    "    lat = parts[0]\n",
    "    lon = parts[1]\n",
    "    age = parts[2]\n",
    "    trm = parts[3]\n",
    "    tbr = parts[4]\n",
    "    pop = parts[5]\n",
    "    hou = parts[6]\n",
    "    inc = parts[7]\n",
    "    val = parts[8]\n",
    "        \n",
    "    return Row(\n",
    "                latitude=float(lat),\n",
    "                longitude=float(lon),\n",
    "                median_housing_age=float(age),\n",
    "                total_rooms=float(trm),\n",
    "                total_bedrooms=float(tbr),\n",
    "                population=float(pop),\n",
    "                households=float(hou),\n",
    "                median_income=float(inc),\n",
    "                median_value=float(val)\n",
    "           )"
   ]
  },
  {
   "cell_type": "code",
   "execution_count": null,
   "metadata": {
    "collapsed": true
   },
   "outputs": [],
   "source": []
  }
 ],
 "metadata": {
  "kernelspec": {
   "display_name": "Python 3",
   "language": "python",
   "name": "python3"
  }
 },
 "nbformat": 4,
 "nbformat_minor": 2
}
