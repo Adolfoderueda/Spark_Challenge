{
 "cells": [
  {
   "cell_type": "code",
   "execution_count": 4,
   "metadata": {
    "scrolled": true
   },
   "outputs": [
    {
     "name": "stdout",
     "output_type": "stream",
     "text": [
      "/usr/local/software/spark\n"
     ]
    }
   ],
   "source": [
    "import os\n",
    "print(os.environ['SPARK_HOME'])\n",
    "dataset_path=\"/home/ubuntu/challenge_1/\""
   ]
  },
  {
   "cell_type": "code",
   "execution_count": 4,
   "metadata": {
    "collapsed": true
   },
   "outputs": [],
   "source": [
    "#import findspark\n",
    "#findspark.init()\n",
    "import pyspark"
   ]
  },
  {
   "cell_type": "code",
   "execution_count": 3,
   "metadata": {
    "collapsed": true
   },
   "outputs": [],
   "source": [
    "from pyspark.sql import SparkSession\n",
    "\n",
    "spark = SparkSession \\\n",
    "    .builder \\\n",
    "    .master(\"local\") \\\n",
    "    .appName(\"Adolfo-Dataset\") \\\n",
    "    .getOrCreate()"
   ]
  },
  {
   "cell_type": "code",
   "execution_count": null,
   "metadata": {
    "collapsed": true
   },
   "outputs": [],
   "source": [
    "spark.version"
   ]
  },
  {
   "cell_type": "markdown",
   "metadata": {},
   "source": [
    "### 2. Data Loading\n",
    "\n",
    "Data inspection shows that the data does not have a header."
   ]
  },
  {
   "cell_type": "code",
   "execution_count": 6,
   "metadata": {
    "collapsed": true
   },
   "outputs": [],
   "source": [
    "def readLine(line):\n",
    "    \"\"\" Parse a line from the input data\n",
    "    Args:\n",
    "        line (str): a line (row) of the input data file\n",
    "    Returns:\n",
    "        Row : row object containin the parsed elements from the line\n",
    "        Note we are adding schema by directly transforming the str into double types\n",
    "    \"\"\"\n",
    "    \n",
    "    parts=re.split(\",\", line)\n",
    "   \n",
    "    # Read in each feature PLUS THE TARGET\n",
    "    duration = parts[0]\n",
    "    protocol_type = parts[1]\n",
    "    service = parts[2]\n",
    "    flag = parts[3]\n",
    "    src_bytes = parts[4]\n",
    "    dst_bytes = parts[5]\n",
    "    land = parts[6]\n",
    "    wrong_fragment = parts[7]\n",
    "    urgent = parts[8]\n",
    "    hot = parts[9]\n",
    "    num_failed_logins = parts[10]\n",
    "    logged_in = parts[11]\n",
    "    num_compromised = parts[12]\n",
    "    root_shell = parts[13]\n",
    "    su_attempted = parts[14]\n",
    "    num_root = parts[15]\n",
    "    num_file_creations = parts[16]\n",
    "    num_shells = parts[17]\n",
    "    num_access_files = parts[18]\n",
    "    num_outbound_cmds = parts[19]\n",
    "    is_host_login = parts[20]\n",
    "    is_guest_login = parts[21]\n",
    "    count = parts[22]\n",
    "    srv_count = parts[23]\n",
    "    serror_rate = parts[24]\n",
    "    srv_serror_rate = parts[25]\n",
    "    rerror_rate = parts[26]\n",
    "    srv_rerror_rate = parts[27]\n",
    "    same_srv_rate = parts[28]\n",
    "    diff_srv_rate = parts[29]\n",
    "    srv_diff_host_rate = parts[30]\n",
    "    dst_host_count = parts[31]\n",
    "    dst_host_srv_count = parts[32]\n",
    "    dst_host_same_srv_rate = parts[33]\n",
    "    dst_host_diff_srv_rate = parts[34]\n",
    "    dst_host_same_src_port_rate = parts[35]\n",
    "    dst_host_srv_diff_host_rate = parts[36]\n",
    "    dst_host_serror_rate = parts[37]\n",
    "    dst_host_srv_serror_rate = parts[38]\n",
    "    dst_host_rerror_rate = parts[39]\n",
    "    dst_host_srv_rerror_rate = parts[40]\n",
    "    connection = parts[41]\n",
    "        \n",
    "    return Row(\n",
    "                duration= float(duration),\n",
    "                protocol_type= str(protocol_type),\n",
    "                service= str(service),\n",
    "                flag= str(flag),\n",
    "                src_bytes= float(src_bytes),\n",
    "                dst_bytes= float(dst_bytes),\n",
    "                land= str(land),\n",
    "                wrong_fragment= float(wrong_fragment),\n",
    "                urgent= float(urgent),\n",
    "                hot= float(hot),\n",
    "                num_failed_logins= float(num_failed_logins),\n",
    "                logged_in= str(logged_in),\n",
    "                num_compromised= float(num_compromised),\n",
    "                root_shell= float(root_shell),\n",
    "                su_attempted= float(su_attempted),\n",
    "                num_root= float(num_root),\n",
    "                num_file_creations= float(num_file_creations),\n",
    "                num_shells= float(num_shells),\n",
    "                num_access_files= float(num_access_files),\n",
    "                num_outbound_cmds= float(num_outbound_cmds),\n",
    "                is_host_login= str(is_host_login),\n",
    "                is_guest_login= str(is_guest_login),\n",
    "                count= float(count),\n",
    "                srv_count= float(srv_count),\n",
    "                serror_rate= float(serror_rate),\n",
    "                srv_serror_rate= float(srv_serror_rate),\n",
    "                rerror_rate= float(rerror_rate),\n",
    "                srv_rerror_rate= float(srv_rerror_rate),\n",
    "                same_srv_rate= float(same_srv_rate),\n",
    "                diff_srv_rate= float(diff_srv_rate),\n",
    "                srv_diff_host_rate= float(srv_diff_host_rate),\n",
    "                dst_host_count= float(dst_host_count),\n",
    "                dst_host_srv_count= float(dst_host_srv_count),\n",
    "                dst_host_same_srv_rate= float(dst_host_same_srv_rate),\n",
    "                dst_host_diff_srv_rate= float(dst_host_diff_srv_rate),\n",
    "                dst_host_same_src_port_rate= float(dst_host_same_src_port_rate),\n",
    "                dst_host_srv_diff_host_rate= float(dst_host_srv_diff_host_rate),\n",
    "                dst_host_serror_rate= float(dst_host_serror_rate),\n",
    "                dst_host_srv_serror_rate= float(dst_host_srv_serror_rate),\n",
    "                dst_host_rerror_rate= float(dst_host_rerror_rate),\n",
    "                dst_host_srv_rerror_rate= float(dst_host_srv_rerror_rate),\n",
    "                connection= str(connection)\n",
    "            \n",
    "           )"
   ]
  },
  {
   "cell_type": "code",
   "execution_count": 7,
   "metadata": {},
   "outputs": [],
   "source": [
    "# ---------\n",
    "# Option 1 : use SparkContext and a function to map each line to a Row object\n",
    "# ---------\n",
    "from pyspark.sql import Row\n",
    "import re\n",
    "sc=spark.sparkContext\n",
    "rdd = sc.textFile(\"file://\"+dataset_path+\"full.data\")\n",
    "#\n",
    "df = rdd \\\n",
    "        .map(lambda line: readLine(line)) \\\n",
    "        .toDF()"
   ]
  },
  {
   "cell_type": "code",
   "execution_count": 17,
   "metadata": {
    "collapsed": true
   },
   "outputs": [],
   "source": [
    "# ---------\n",
    "# Option 2 :  use SparkSession and infer schema, then add a header\n",
    "# ---------\n",
    "\n",
    "df2 = spark.read \\\n",
    "    .option(\"inferSchema\", \"true\") \\\n",
    "    .csv(\"file://\"+dataset_path+\"full.data\")"
   ]
  },
  {
   "cell_type": "code",
   "execution_count": 16,
   "metadata": {},
   "outputs": [
    {
     "name": "stdout",
     "output_type": "stream",
     "text": [
      "+---+---+----+---+---+-----+---+---+---+---+----+----+----+----+----+----+----+----+----+----+----+----+----+----+----+----+----+----+----+----+----+----+----+----+----+----+----+----+----+----+----+-------+\n",
      "|_c0|_c1| _c2|_c3|_c4|  _c5|_c6|_c7|_c8|_c9|_c10|_c11|_c12|_c13|_c14|_c15|_c16|_c17|_c18|_c19|_c20|_c21|_c22|_c23|_c24|_c25|_c26|_c27|_c28|_c29|_c30|_c31|_c32|_c33|_c34|_c35|_c36|_c37|_c38|_c39|_c40|   _c41|\n",
      "+---+---+----+---+---+-----+---+---+---+---+----+----+----+----+----+----+----+----+----+----+----+----+----+----+----+----+----+----+----+----+----+----+----+----+----+----+----+----+----+----+----+-------+\n",
      "|  0|tcp|http| SF|215|45076|  0|  0|  0|  0|   0|   1|   0|   0|   0|   0|   0|   0|   0|   0|   0|   0|   1|   1|0.00|0.00|0.00|0.00|1.00|0.00|0.00|   0|   0|0.00|0.00|0.00|0.00|0.00|0.00|0.00|0.00|normal.|\n",
      "|  0|tcp|http| SF|162| 4528|  0|  0|  0|  0|   0|   1|   0|   0|   0|   0|   0|   0|   0|   0|   0|   0|   2|   2|0.00|0.00|0.00|0.00|1.00|0.00|0.00|   1|   1|1.00|0.00|1.00|0.00|0.00|0.00|0.00|0.00|normal.|\n",
      "|  0|tcp|http| SF|236| 1228|  0|  0|  0|  0|   0|   1|   0|   0|   0|   0|   0|   0|   0|   0|   0|   0|   1|   1|0.00|0.00|0.00|0.00|1.00|0.00|0.00|   2|   2|1.00|0.00|0.50|0.00|0.00|0.00|0.00|0.00|normal.|\n",
      "|  0|tcp|http| SF|233| 2032|  0|  0|  0|  0|   0|   1|   0|   0|   0|   0|   0|   0|   0|   0|   0|   0|   2|   2|0.00|0.00|0.00|0.00|1.00|0.00|0.00|   3|   3|1.00|0.00|0.33|0.00|0.00|0.00|0.00|0.00|normal.|\n",
      "|  0|tcp|http| SF|239|  486|  0|  0|  0|  0|   0|   1|   0|   0|   0|   0|   0|   0|   0|   0|   0|   0|   3|   3|0.00|0.00|0.00|0.00|1.00|0.00|0.00|   4|   4|1.00|0.00|0.25|0.00|0.00|0.00|0.00|0.00|normal.|\n",
      "+---+---+----+---+---+-----+---+---+---+---+----+----+----+----+----+----+----+----+----+----+----+----+----+----+----+----+----+----+----+----+----+----+----+----+----+----+----+----+----+----+----+-------+\n",
      "only showing top 5 rows\n",
      "\n"
     ]
    }
   ],
   "source": [
    "df2.show(5)"
   ]
  },
  {
   "cell_type": "code",
   "execution_count": null,
   "metadata": {
    "collapsed": true
   },
   "outputs": [],
   "source": []
  }
 ],
 "metadata": {
  "kernelspec": {
   "display_name": "Python 3",
   "language": "python",
   "name": "python3"
  },
  "language_info": {
   "codemirror_mode": {
    "name": "ipython",
    "version": 3
   },
   "file_extension": ".py",
   "mimetype": "text/x-python",
   "name": "python",
   "nbconvert_exporter": "python",
   "pygments_lexer": "ipython3",
   "version": "3.6.3"
  }
 },
 "nbformat": 4,
 "nbformat_minor": 2
}
